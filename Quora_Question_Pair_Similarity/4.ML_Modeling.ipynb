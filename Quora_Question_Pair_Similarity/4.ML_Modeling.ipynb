{
 "cells": [
  {
   "cell_type": "markdown",
   "metadata": {
    "id": "N2haKvp5ZmKn"
   },
   "source": [
    "### 4.1 import section"
   ]
  },
  {
   "cell_type": "code",
   "execution_count": 42,
   "metadata": {
    "executionInfo": {
     "elapsed": 1570,
     "status": "ok",
     "timestamp": 1668153698094,
     "user": {
      "displayName": "santhosh kurnapally",
      "userId": "15491120331264307379"
     },
     "user_tz": -330
    },
    "id": "ngkkGjHcZLyd"
   },
   "outputs": [],
   "source": [
    "import pandas as pd\n",
    "import numpy as np\n",
    "from sklearn.metrics import accuracy_score\n",
    "from  sklearn.model_selection import train_test_split\n",
    "from sklearn.metrics import accuracy_score, f1_score, roc_auc_score,log_loss,confusion_matrix,classification_report\n",
    "import matplotlib.pyplot as plt\n",
    "from sklearn import tree\n",
    "import warnings\n",
    "warnings.filterwarnings('ignore')\n",
    "import operator\n",
    "import copy\n",
    "import json\n",
    "import pickle\n",
    "from collections import Counter\n",
    "import seaborn as sns\n",
    "from sklearn.model_selection import GridSearchCV\n",
    "from sklearn.model_selection import train_test_split\n",
    "from sklearn.preprocessing import StandardScaler\n",
    "from sklearn.ensemble import RandomForestClassifier\n",
    "from sklearn.neighbors import KNeighborsClassifier\n",
    "from sklearn.naive_bayes import GaussianNB\n",
    "from sklearn.linear_model import LogisticRegression,SGDClassifier\n",
    "from sklearn.svm import SVC\n",
    "from sklearn.tree import DecisionTreeClassifier\n",
    "from sklearn.calibration import CalibratedClassifierCV\n",
    "from lightgbm import LGBMClassifier\n",
    "import warnings\n",
    "import sqlite3\n",
    "import os\n",
    "warnings.filterwarnings(\"ignore\")\n",
    "from tqdm import tqdm\n",
    "tqdm.pandas()"
   ]
  },
  {
   "cell_type": "markdown",
   "metadata": {
    "id": "CtN9VBPutARf"
   },
   "source": [
    "### 4.2 Reading data from file"
   ]
  },
  {
   "cell_type": "code",
   "execution_count": 2,
   "metadata": {
    "colab": {
     "base_uri": "https://localhost:8080/",
     "height": 236
    },
    "executionInfo": {
     "elapsed": 3167,
     "status": "ok",
     "timestamp": 1668153702843,
     "user": {
      "displayName": "santhosh kurnapally",
      "userId": "15491120331264307379"
     },
     "user_tz": -330
    },
    "id": "zb4YpcCujF2u",
    "outputId": "40041df5-e0a5-478f-c9e1-89b0432f6ffe"
   },
   "outputs": [
    {
     "data": {
      "text/html": [
       "<div>\n",
       "<style scoped>\n",
       "    .dataframe tbody tr th:only-of-type {\n",
       "        vertical-align: middle;\n",
       "    }\n",
       "\n",
       "    .dataframe tbody tr th {\n",
       "        vertical-align: top;\n",
       "    }\n",
       "\n",
       "    .dataframe thead th {\n",
       "        text-align: right;\n",
       "    }\n",
       "</style>\n",
       "<table border=\"1\" class=\"dataframe\">\n",
       "  <thead>\n",
       "    <tr style=\"text-align: right;\">\n",
       "      <th></th>\n",
       "      <th>cwc_min</th>\n",
       "      <th>cwc_max</th>\n",
       "      <th>csc_min</th>\n",
       "      <th>csc_max</th>\n",
       "      <th>ctc_min</th>\n",
       "      <th>ctc_max</th>\n",
       "      <th>last_word_eq</th>\n",
       "      <th>first_word_eq</th>\n",
       "      <th>abs_len_diff</th>\n",
       "      <th>mean_len</th>\n",
       "      <th>...</th>\n",
       "      <th>374_y</th>\n",
       "      <th>375_y</th>\n",
       "      <th>376_y</th>\n",
       "      <th>377_y</th>\n",
       "      <th>378_y</th>\n",
       "      <th>379_y</th>\n",
       "      <th>380_y</th>\n",
       "      <th>381_y</th>\n",
       "      <th>382_y</th>\n",
       "      <th>383_y</th>\n",
       "    </tr>\n",
       "  </thead>\n",
       "  <tbody>\n",
       "    <tr>\n",
       "      <th>0</th>\n",
       "      <td>0.999980</td>\n",
       "      <td>0.833319</td>\n",
       "      <td>0.999983</td>\n",
       "      <td>0.999983</td>\n",
       "      <td>0.916659</td>\n",
       "      <td>0.785709</td>\n",
       "      <td>0.0</td>\n",
       "      <td>1.0</td>\n",
       "      <td>2.0</td>\n",
       "      <td>13.0</td>\n",
       "      <td>...</td>\n",
       "      <td>16.165592</td>\n",
       "      <td>33.030668</td>\n",
       "      <td>7.019996</td>\n",
       "      <td>-14.793959</td>\n",
       "      <td>15.437511</td>\n",
       "      <td>8.199658</td>\n",
       "      <td>-25.070834</td>\n",
       "      <td>1.571619</td>\n",
       "      <td>1.603738</td>\n",
       "      <td>0.305645</td>\n",
       "    </tr>\n",
       "    <tr>\n",
       "      <th>1</th>\n",
       "      <td>0.799984</td>\n",
       "      <td>0.399996</td>\n",
       "      <td>0.749981</td>\n",
       "      <td>0.599988</td>\n",
       "      <td>0.699993</td>\n",
       "      <td>0.466664</td>\n",
       "      <td>0.0</td>\n",
       "      <td>1.0</td>\n",
       "      <td>5.0</td>\n",
       "      <td>12.5</td>\n",
       "      <td>...</td>\n",
       "      <td>-4.901128</td>\n",
       "      <td>-4.565393</td>\n",
       "      <td>41.520751</td>\n",
       "      <td>-0.727564</td>\n",
       "      <td>-16.413776</td>\n",
       "      <td>-7.373778</td>\n",
       "      <td>2.638877</td>\n",
       "      <td>-7.403457</td>\n",
       "      <td>2.703070</td>\n",
       "      <td>0.408040</td>\n",
       "    </tr>\n",
       "    <tr>\n",
       "      <th>2</th>\n",
       "      <td>0.399992</td>\n",
       "      <td>0.333328</td>\n",
       "      <td>0.399992</td>\n",
       "      <td>0.249997</td>\n",
       "      <td>0.399996</td>\n",
       "      <td>0.285712</td>\n",
       "      <td>0.0</td>\n",
       "      <td>1.0</td>\n",
       "      <td>4.0</td>\n",
       "      <td>12.0</td>\n",
       "      <td>...</td>\n",
       "      <td>8.359966</td>\n",
       "      <td>-2.165985</td>\n",
       "      <td>10.936580</td>\n",
       "      <td>-16.531660</td>\n",
       "      <td>14.681230</td>\n",
       "      <td>15.633759</td>\n",
       "      <td>-1.210901</td>\n",
       "      <td>14.183826</td>\n",
       "      <td>11.703135</td>\n",
       "      <td>10.148075</td>\n",
       "    </tr>\n",
       "    <tr>\n",
       "      <th>3</th>\n",
       "      <td>0.000000</td>\n",
       "      <td>0.000000</td>\n",
       "      <td>0.000000</td>\n",
       "      <td>0.000000</td>\n",
       "      <td>0.000000</td>\n",
       "      <td>0.000000</td>\n",
       "      <td>0.0</td>\n",
       "      <td>0.0</td>\n",
       "      <td>2.0</td>\n",
       "      <td>12.0</td>\n",
       "      <td>...</td>\n",
       "      <td>3.311411</td>\n",
       "      <td>3.788879</td>\n",
       "      <td>13.398598</td>\n",
       "      <td>-6.592596</td>\n",
       "      <td>6.437365</td>\n",
       "      <td>5.993293</td>\n",
       "      <td>2.732392</td>\n",
       "      <td>-3.727647</td>\n",
       "      <td>5.614115</td>\n",
       "      <td>6.023693</td>\n",
       "    </tr>\n",
       "    <tr>\n",
       "      <th>4</th>\n",
       "      <td>0.399992</td>\n",
       "      <td>0.199998</td>\n",
       "      <td>0.999950</td>\n",
       "      <td>0.666644</td>\n",
       "      <td>0.571420</td>\n",
       "      <td>0.307690</td>\n",
       "      <td>0.0</td>\n",
       "      <td>1.0</td>\n",
       "      <td>6.0</td>\n",
       "      <td>10.0</td>\n",
       "      <td>...</td>\n",
       "      <td>-2.403870</td>\n",
       "      <td>11.991204</td>\n",
       "      <td>8.088483</td>\n",
       "      <td>-15.090201</td>\n",
       "      <td>8.375166</td>\n",
       "      <td>1.727225</td>\n",
       "      <td>-6.601129</td>\n",
       "      <td>11.317413</td>\n",
       "      <td>11.544603</td>\n",
       "      <td>2.478689</td>\n",
       "    </tr>\n",
       "  </tbody>\n",
       "</table>\n",
       "<p>5 rows × 794 columns</p>\n",
       "</div>"
      ],
      "text/plain": [
       "    cwc_min   cwc_max   csc_min   csc_max   ctc_min   ctc_max  last_word_eq  \\\n",
       "0  0.999980  0.833319  0.999983  0.999983  0.916659  0.785709           0.0   \n",
       "1  0.799984  0.399996  0.749981  0.599988  0.699993  0.466664           0.0   \n",
       "2  0.399992  0.333328  0.399992  0.249997  0.399996  0.285712           0.0   \n",
       "3  0.000000  0.000000  0.000000  0.000000  0.000000  0.000000           0.0   \n",
       "4  0.399992  0.199998  0.999950  0.666644  0.571420  0.307690           0.0   \n",
       "\n",
       "   first_word_eq  abs_len_diff  mean_len  ...      374_y      375_y  \\\n",
       "0            1.0           2.0      13.0  ...  16.165592  33.030668   \n",
       "1            1.0           5.0      12.5  ...  -4.901128  -4.565393   \n",
       "2            1.0           4.0      12.0  ...   8.359966  -2.165985   \n",
       "3            0.0           2.0      12.0  ...   3.311411   3.788879   \n",
       "4            1.0           6.0      10.0  ...  -2.403870  11.991204   \n",
       "\n",
       "       376_y      377_y      378_y      379_y      380_y      381_y  \\\n",
       "0   7.019996 -14.793959  15.437511   8.199658 -25.070834   1.571619   \n",
       "1  41.520751  -0.727564 -16.413776  -7.373778   2.638877  -7.403457   \n",
       "2  10.936580 -16.531660  14.681230  15.633759  -1.210901  14.183826   \n",
       "3  13.398598  -6.592596   6.437365   5.993293   2.732392  -3.727647   \n",
       "4   8.088483 -15.090201   8.375166   1.727225  -6.601129  11.317413   \n",
       "\n",
       "       382_y      383_y  \n",
       "0   1.603738   0.305645  \n",
       "1   2.703070   0.408040  \n",
       "2  11.703135  10.148075  \n",
       "3   5.614115   6.023693  \n",
       "4  11.544603   2.478689  \n",
       "\n",
       "[5 rows x 794 columns]"
      ]
     },
     "execution_count": 2,
     "metadata": {},
     "output_type": "execute_result"
    }
   ],
   "source": [
    "X = pd.read_csv('final_features.csv',nrows = 10000)\n",
    "y = X['is_duplicate']\n",
    "X.drop(['Unnamed: 0', 'id','is_duplicate'],axis = 1,inplace = True)\n",
    "X.head()"
   ]
  },
  {
   "cell_type": "markdown",
   "metadata": {
    "id": "GlngmL0ylAZi"
   },
   "source": [
    "### 4.3 Random train test split( 70:30)"
   ]
  },
  {
   "cell_type": "code",
   "execution_count": 3,
   "metadata": {
    "colab": {
     "base_uri": "https://localhost:8080/"
    },
    "executionInfo": {
     "elapsed": 13,
     "status": "ok",
     "timestamp": 1668153702844,
     "user": {
      "displayName": "santhosh kurnapally",
      "userId": "15491120331264307379"
     },
     "user_tz": -330
    },
    "id": "Rq41g0X6jcNZ",
    "outputId": "0d099f0f-699f-48de-9f62-635180468c72"
   },
   "outputs": [
    {
     "name": "stdout",
     "output_type": "stream",
     "text": [
      "(7000, 794)\n",
      "(3000, 794)\n",
      "(7000,)\n",
      "(3000,)\n"
     ]
    }
   ],
   "source": [
    "X_train,X_test, y_train, y_test = train_test_split(X, y, stratify=y, test_size=0.3)\n",
    "print(X_train.shape)\n",
    "print(X_test.shape)\n",
    "print(y_train.shape)\n",
    "print(y_test.shape)"
   ]
  },
  {
   "cell_type": "code",
   "execution_count": 4,
   "metadata": {
    "colab": {
     "base_uri": "https://localhost:8080/"
    },
    "executionInfo": {
     "elapsed": 11,
     "status": "ok",
     "timestamp": 1668153702844,
     "user": {
      "displayName": "santhosh kurnapally",
      "userId": "15491120331264307379"
     },
     "user_tz": -330
    },
    "id": "RQvCqrvzkdCY",
    "outputId": "b8a20dc1-4ef0-4a4a-d51e-363b9b59d1f5"
   },
   "outputs": [
    {
     "name": "stdout",
     "output_type": "stream",
     "text": [
      "---------- Distribution of output variable in train data ----------\n",
      "Class 0:  0.6288571428571429 Class 1:  0.37114285714285716\n",
      "---------- Distribution of output test in train data ----------\n",
      "Class 0:  0.629 Class 1:  0.371\n"
     ]
    }
   ],
   "source": [
    "print(\"-\"*10, \"Distribution of output variable in train data\", \"-\"*10)\n",
    "train_distr = Counter(y_train)\n",
    "train_len = len(y_train)\n",
    "print(\"Class 0: \",int(train_distr[0])/train_len,\"Class 1: \", int(train_distr[1])/train_len)\n",
    "print(\"-\"*10, \"Distribution of output test in train data\", \"-\"*10)\n",
    "test_distr = Counter(y_test)\n",
    "test_len = len(y_test)\n",
    "print(\"Class 0: \",int(test_distr[0])/test_len, \"Class 1: \",int(test_distr[1])/test_len)"
   ]
  },
  {
   "cell_type": "markdown",
   "metadata": {
    "id": "8ah7mgD6lyu0"
   },
   "source": [
    "### 4.4 Creating result dataset and metrics function"
   ]
  },
  {
   "cell_type": "code",
   "execution_count": 5,
   "metadata": {
    "colab": {
     "base_uri": "https://localhost:8080/",
     "height": 175
    },
    "executionInfo": {
     "elapsed": 9,
     "status": "ok",
     "timestamp": 1668153702844,
     "user": {
      "displayName": "santhosh kurnapally",
      "userId": "15491120331264307379"
     },
     "user_tz": -330
    },
    "id": "WV8xAxNQlWw0",
    "outputId": "4c4e8472-cc8b-441b-e802-4b5bc53a603d"
   },
   "outputs": [
    {
     "data": {
      "text/html": [
       "<div>\n",
       "<style scoped>\n",
       "    .dataframe tbody tr th:only-of-type {\n",
       "        vertical-align: middle;\n",
       "    }\n",
       "\n",
       "    .dataframe tbody tr th {\n",
       "        vertical-align: top;\n",
       "    }\n",
       "\n",
       "    .dataframe thead th {\n",
       "        text-align: right;\n",
       "    }\n",
       "</style>\n",
       "<table border=\"1\" class=\"dataframe\">\n",
       "  <thead>\n",
       "    <tr style=\"text-align: right;\">\n",
       "      <th></th>\n",
       "      <th>Random</th>\n",
       "      <th>LR</th>\n",
       "      <th>SVC</th>\n",
       "      <th>DT</th>\n",
       "      <th>RF</th>\n",
       "      <th>XGB</th>\n",
       "    </tr>\n",
       "  </thead>\n",
       "  <tbody>\n",
       "    <tr>\n",
       "      <th>accuracy_score</th>\n",
       "      <td>0.0</td>\n",
       "      <td>0.0</td>\n",
       "      <td>0.0</td>\n",
       "      <td>0.0</td>\n",
       "      <td>0.0</td>\n",
       "      <td>0.0</td>\n",
       "    </tr>\n",
       "    <tr>\n",
       "      <th>f1_score</th>\n",
       "      <td>0.0</td>\n",
       "      <td>0.0</td>\n",
       "      <td>0.0</td>\n",
       "      <td>0.0</td>\n",
       "      <td>0.0</td>\n",
       "      <td>0.0</td>\n",
       "    </tr>\n",
       "    <tr>\n",
       "      <th>roc_auc_score</th>\n",
       "      <td>0.0</td>\n",
       "      <td>0.0</td>\n",
       "      <td>0.0</td>\n",
       "      <td>0.0</td>\n",
       "      <td>0.0</td>\n",
       "      <td>0.0</td>\n",
       "    </tr>\n",
       "    <tr>\n",
       "      <th>log_loss</th>\n",
       "      <td>0.0</td>\n",
       "      <td>0.0</td>\n",
       "      <td>0.0</td>\n",
       "      <td>0.0</td>\n",
       "      <td>0.0</td>\n",
       "      <td>0.0</td>\n",
       "    </tr>\n",
       "  </tbody>\n",
       "</table>\n",
       "</div>"
      ],
      "text/plain": [
       "                Random   LR  SVC   DT   RF  XGB\n",
       "accuracy_score     0.0  0.0  0.0  0.0  0.0  0.0\n",
       "f1_score           0.0  0.0  0.0  0.0  0.0  0.0\n",
       "roc_auc_score      0.0  0.0  0.0  0.0  0.0  0.0\n",
       "log_loss           0.0  0.0  0.0  0.0  0.0  0.0"
      ]
     },
     "execution_count": 5,
     "metadata": {},
     "output_type": "execute_result"
    }
   ],
   "source": [
    "result_dataset = pd.DataFrame(data =np.zeros((4,6)) , index = ['accuracy_score','f1_score','roc_auc_score','log_loss'],columns = ['Random','LR','SVC','DT','RF','XGB'])\n",
    "result_dataset"
   ]
  },
  {
   "cell_type": "code",
   "execution_count": 6,
   "metadata": {
    "executionInfo": {
     "elapsed": 430,
     "status": "ok",
     "timestamp": 1668153986052,
     "user": {
      "displayName": "santhosh kurnapally",
      "userId": "15491120331264307379"
     },
     "user_tz": -330
    },
    "id": "bfHX5mMnmPZG"
   },
   "outputs": [],
   "source": [
    "def metrics(classfier,X_test,y_test,name):\n",
    "  if isinstance(classfier, list):\n",
    "    y_pred = classfier[1]\n",
    "    y_prob = classfier[0][:,1]\n",
    "  else:\n",
    "    y_pred = classfier.predict(X_test)\n",
    "    y_prob = classfier.predict_proba(X_test)[:,[1]]\n",
    "  accuracy = accuracy_score(y_test,y_pred)\n",
    "  rocauc = roc_auc_score(y_test,y_prob)\n",
    "  logloss = log_loss(y_test,y_prob,eps=1e-15)\n",
    "  f1score = f1_score(y_test,y_pred)\n",
    "  result_dataset[name]['accuracy_score'] = accuracy\n",
    "  result_dataset[name]['f1_score'] = f1score\n",
    "  result_dataset[name]['roc_auc_score'] = rocauc\n",
    "  result_dataset[name]['log_loss'] = logloss\n",
    "  print(\"accuracy score :\",accuracy)\n",
    "  print(\"f1 score :\",f1score)\n",
    "  print(\"auc score :\",rocauc)\n",
    "  print(\"log loss :\",logloss)\n",
    "  print('classification report : \\n', classification_report(y_test,y_pred))\n",
    "  print('*********** confusion matrx ***********')\n",
    "  C = confusion_matrix(y_test, y_pred)\n",
    "  A =(((C.T)/(C.sum(axis=1))).T)\n",
    "  B =(C/C.sum(axis=0))\n",
    "  plt.figure(figsize=(20,4))\n",
    "  labels = [1,2]\n",
    "  cmap=sns.light_palette(\"blue\")\n",
    "  plt.subplot(1, 3, 1)\n",
    "  sns.heatmap(C, annot=True, cmap=cmap, fmt=\".3f\", xticklabels=labels, yticklabels=labels)\n",
    "  plt.xlabel('Predicted Class')\n",
    "  plt.ylabel('Original Class')\n",
    "  plt.title(\"Confusion matrix\")\n",
    "  \n",
    "  plt.subplot(1, 3, 2)\n",
    "  sns.heatmap(B, annot=True, cmap=cmap, fmt=\".3f\", xticklabels=labels, yticklabels=labels)\n",
    "  plt.xlabel('Predicted Class')\n",
    "  plt.ylabel('Original Class')\n",
    "  plt.title(\"Precision matrix\")\n",
    "  \n",
    "  plt.subplot(1, 3, 3)\n",
    "  # representing B in heatmap format\n",
    "  sns.heatmap(A, annot=True, cmap=cmap, fmt=\".3f\", xticklabels=labels, yticklabels=labels)\n",
    "  plt.xlabel('Predicted Class')\n",
    "  plt.ylabel('Original Class')\n",
    "  plt.title(\"Recall matrix\")\n",
    "  plt.show()"
   ]
  },
  {
   "cell_type": "markdown",
   "metadata": {
    "id": "UStQJ5F_tASk"
   },
   "source": [
    "### 4.5 Building a random model (Finding worst-case log-loss)"
   ]
  },
  {
   "cell_type": "code",
   "execution_count": 8,
   "metadata": {
    "colab": {
     "base_uri": "https://localhost:8080/",
     "height": 555
    },
    "executionInfo": {
     "elapsed": 2061,
     "status": "ok",
     "timestamp": 1668153991966,
     "user": {
      "displayName": "santhosh kurnapally",
      "userId": "15491120331264307379"
     },
     "user_tz": -330
    },
    "id": "qwMDqcU7tASl",
    "outputId": "593b727f-930c-43fe-b7d6-736f256f2ebe"
   },
   "outputs": [
    {
     "name": "stdout",
     "output_type": "stream",
     "text": [
      "accuracy score : 0.49633333333333335\n",
      "f1 score : 0.43002640513013957\n",
      "auc score : 0.5140034596194418\n",
      "log loss : 0.8687353033708989\n",
      "classification report : \n",
      "               precision    recall  f1-score   support\n",
      "\n",
      "           0       0.63      0.49      0.55      1887\n",
      "           1       0.37      0.51      0.43      1113\n",
      "\n",
      "    accuracy                           0.50      3000\n",
      "   macro avg       0.50      0.50      0.49      3000\n",
      "weighted avg       0.53      0.50      0.50      3000\n",
      "\n",
      "*********** confusion matrx ***********\n"
     ]
    },
    {
     "data": {
      "image/png": "[encoded data removed]",
      "text/plain": [
       "<Figure size 1440x288 with 6 Axes>"
      ]
     },
     "metadata": {
      "needs_background": "light"
     },
     "output_type": "display_data"
    },
    {
     "data": {
      "text/html": [
       "<div>\n",
       "<style scoped>\n",
       "    .dataframe tbody tr th:only-of-type {\n",
       "        vertical-align: middle;\n",
       "    }\n",
       "\n",
       "    .dataframe tbody tr th {\n",
       "        vertical-align: top;\n",
       "    }\n",
       "\n",
       "    .dataframe thead th {\n",
       "        text-align: right;\n",
       "    }\n",
       "</style>\n",
       "<table border=\"1\" class=\"dataframe\">\n",
       "  <thead>\n",
       "    <tr style=\"text-align: right;\">\n",
       "      <th></th>\n",
       "      <th>Random</th>\n",
       "      <th>LR</th>\n",
       "      <th>SVC</th>\n",
       "      <th>DT</th>\n",
       "      <th>RF</th>\n",
       "      <th>XGB</th>\n",
       "    </tr>\n",
       "  </thead>\n",
       "  <tbody>\n",
       "    <tr>\n",
       "      <th>accuracy_score</th>\n",
       "      <td>0.496333</td>\n",
       "      <td>0.0</td>\n",
       "      <td>0.0</td>\n",
       "      <td>0.0</td>\n",
       "      <td>0.0</td>\n",
       "      <td>0.0</td>\n",
       "    </tr>\n",
       "    <tr>\n",
       "      <th>f1_score</th>\n",
       "      <td>0.430026</td>\n",
       "      <td>0.0</td>\n",
       "      <td>0.0</td>\n",
       "      <td>0.0</td>\n",
       "      <td>0.0</td>\n",
       "      <td>0.0</td>\n",
       "    </tr>\n",
       "    <tr>\n",
       "      <th>roc_auc_score</th>\n",
       "      <td>0.514003</td>\n",
       "      <td>0.0</td>\n",
       "      <td>0.0</td>\n",
       "      <td>0.0</td>\n",
       "      <td>0.0</td>\n",
       "      <td>0.0</td>\n",
       "    </tr>\n",
       "    <tr>\n",
       "      <th>log_loss</th>\n",
       "      <td>0.868735</td>\n",
       "      <td>0.0</td>\n",
       "      <td>0.0</td>\n",
       "      <td>0.0</td>\n",
       "      <td>0.0</td>\n",
       "      <td>0.0</td>\n",
       "    </tr>\n",
       "  </tbody>\n",
       "</table>\n",
       "</div>"
      ],
      "text/plain": [
       "                  Random   LR  SVC   DT   RF  XGB\n",
       "accuracy_score  0.496333  0.0  0.0  0.0  0.0  0.0\n",
       "f1_score        0.430026  0.0  0.0  0.0  0.0  0.0\n",
       "roc_auc_score   0.514003  0.0  0.0  0.0  0.0  0.0\n",
       "log_loss        0.868735  0.0  0.0  0.0  0.0  0.0"
      ]
     },
     "execution_count": 8,
     "metadata": {},
     "output_type": "execute_result"
    }
   ],
   "source": [
    "rand_y_prob = np.zeros((test_len,2))\n",
    "for i in range(test_len):\n",
    "    rand_probs = np.random.rand(1,2)\n",
    "    rand_y_prob[i] = ((rand_probs/sum(sum(rand_probs)))[0])\n",
    "rand_y_pred =np.argmax(rand_y_prob, axis=1)\n",
    "metrics([rand_y_prob,rand_y_pred],X_test,y_test,'Random')\n",
    "result_dataset"
   ]
  },
  {
   "cell_type": "markdown",
   "metadata": {
    "id": "vbh3pJkNu23x"
   },
   "source": [
    "## lets start with logistic regression"
   ]
  },
  {
   "cell_type": "code",
   "execution_count": 30,
   "metadata": {
    "colab": {
     "base_uri": "https://localhost:8080/",
     "height": 468
    },
    "executionInfo": {
     "elapsed": 36769,
     "status": "error",
     "timestamp": 1668154385536,
     "user": {
      "displayName": "santhosh kurnapally",
      "userId": "15491120331264307379"
     },
     "user_tz": -330
    },
    "id": "4Akdwje9oyRN",
    "outputId": "dd896cf4-c090-44b0-9701-2021dd0807d7"
   },
   "outputs": [
    {
     "name": "stdout",
     "output_type": "stream",
     "text": [
      "Fitting 2 folds for each of 42 candidates, totalling 84 fits\n"
     ]
    },
    {
     "name": "stderr",
     "output_type": "stream",
     "text": [
      "/Users/santhoshkurnapally/opt/anaconda3/lib/python3.9/site-packages/sklearn/linear_model/_stochastic_gradient.py:696: ConvergenceWarning: Maximum number of iteration reached before convergence. Consider increasing max_iter to improve the fit.\n",
      "  warnings.warn(\n",
      "/Users/santhoshkurnapally/opt/anaconda3/lib/python3.9/site-packages/sklearn/linear_model/_stochastic_gradient.py:696: ConvergenceWarning: Maximum number of iteration reached before convergence. Consider increasing max_iter to improve the fit.\n",
      "  warnings.warn(\n",
      "/Users/santhoshkurnapally/opt/anaconda3/lib/python3.9/site-packages/sklearn/linear_model/_stochastic_gradient.py:696: ConvergenceWarning: Maximum number of iteration reached before convergence. Consider increasing max_iter to improve the fit.\n",
      "  warnings.warn(\n",
      "/Users/santhoshkurnapally/opt/anaconda3/lib/python3.9/site-packages/sklearn/linear_model/_stochastic_gradient.py:696: ConvergenceWarning: Maximum number of iteration reached before convergence. Consider increasing max_iter to improve the fit.\n",
      "  warnings.warn(\n",
      "/Users/santhoshkurnapally/opt/anaconda3/lib/python3.9/site-packages/sklearn/linear_model/_stochastic_gradient.py:696: ConvergenceWarning: Maximum number of iteration reached before convergence. Consider increasing max_iter to improve the fit.\n",
      "  warnings.warn(\n",
      "/Users/santhoshkurnapally/opt/anaconda3/lib/python3.9/site-packages/sklearn/linear_model/_stochastic_gradient.py:696: ConvergenceWarning: Maximum number of iteration reached before convergence. Consider increasing max_iter to improve the fit.\n",
      "  warnings.warn(\n",
      "/Users/santhoshkurnapally/opt/anaconda3/lib/python3.9/site-packages/sklearn/linear_model/_stochastic_gradient.py:696: ConvergenceWarning: Maximum number of iteration reached before convergence. Consider increasing max_iter to improve the fit.\n",
      "  warnings.warn(\n",
      "/Users/santhoshkurnapally/opt/anaconda3/lib/python3.9/site-packages/sklearn/linear_model/_stochastic_gradient.py:696: ConvergenceWarning: Maximum number of iteration reached before convergence. Consider increasing max_iter to improve the fit.\n",
      "  warnings.warn(\n",
      "/Users/santhoshkurnapally/opt/anaconda3/lib/python3.9/site-packages/sklearn/linear_model/_stochastic_gradient.py:696: ConvergenceWarning: Maximum number of iteration reached before convergence. Consider increasing max_iter to improve the fit.\n",
      "  warnings.warn(\n",
      "/Users/santhoshkurnapally/opt/anaconda3/lib/python3.9/site-packages/sklearn/linear_model/_stochastic_gradient.py:696: ConvergenceWarning: Maximum number of iteration reached before convergence. Consider increasing max_iter to improve the fit.\n",
      "  warnings.warn(\n",
      "/Users/santhoshkurnapally/opt/anaconda3/lib/python3.9/site-packages/sklearn/linear_model/_stochastic_gradient.py:696: ConvergenceWarning: Maximum number of iteration reached before convergence. Consider increasing max_iter to improve the fit.\n",
      "  warnings.warn(\n",
      "/Users/santhoshkurnapally/opt/anaconda3/lib/python3.9/site-packages/sklearn/linear_model/_stochastic_gradient.py:696: ConvergenceWarning: Maximum number of iteration reached before convergence. Consider increasing max_iter to improve the fit.\n",
      "  warnings.warn(\n",
      "/Users/santhoshkurnapally/opt/anaconda3/lib/python3.9/site-packages/sklearn/linear_model/_stochastic_gradient.py:696: ConvergenceWarning: Maximum number of iteration reached before convergence. Consider increasing max_iter to improve the fit.\n",
      "  warnings.warn(\n",
      "/Users/santhoshkurnapally/opt/anaconda3/lib/python3.9/site-packages/sklearn/linear_model/_stochastic_gradient.py:696: ConvergenceWarning: Maximum number of iteration reached before convergence. Consider increasing max_iter to improve the fit.\n",
      "  warnings.warn(\n",
      "/Users/santhoshkurnapally/opt/anaconda3/lib/python3.9/site-packages/sklearn/linear_model/_stochastic_gradient.py:696: ConvergenceWarning: Maximum number of iteration reached before convergence. Consider increasing max_iter to improve the fit.\n",
      "  warnings.warn(\n",
      "/Users/santhoshkurnapally/opt/anaconda3/lib/python3.9/site-packages/sklearn/linear_model/_stochastic_gradient.py:696: ConvergenceWarning: Maximum number of iteration reached before convergence. Consider increasing max_iter to improve the fit.\n",
      "  warnings.warn(\n",
      "/Users/santhoshkurnapally/opt/anaconda3/lib/python3.9/site-packages/sklearn/linear_model/_stochastic_gradient.py:696: ConvergenceWarning: Maximum number of iteration reached before convergence. Consider increasing max_iter to improve the fit.\n",
      "  warnings.warn(\n",
      "/Users/santhoshkurnapally/opt/anaconda3/lib/python3.9/site-packages/sklearn/linear_model/_stochastic_gradient.py:696: ConvergenceWarning: Maximum number of iteration reached before convergence. Consider increasing max_iter to improve the fit.\n",
      "  warnings.warn(\n",
      "/Users/santhoshkurnapally/opt/anaconda3/lib/python3.9/site-packages/sklearn/linear_model/_stochastic_gradient.py:696: ConvergenceWarning: Maximum number of iteration reached before convergence. Consider increasing max_iter to improve the fit.\n",
      "  warnings.warn(\n",
      "/Users/santhoshkurnapally/opt/anaconda3/lib/python3.9/site-packages/sklearn/linear_model/_stochastic_gradient.py:696: ConvergenceWarning: Maximum number of iteration reached before convergence. Consider increasing max_iter to improve the fit.\n",
      "  warnings.warn(\n",
      "/Users/santhoshkurnapally/opt/anaconda3/lib/python3.9/site-packages/sklearn/linear_model/_stochastic_gradient.py:696: ConvergenceWarning: Maximum number of iteration reached before convergence. Consider increasing max_iter to improve the fit.\n",
      "  warnings.warn(\n",
      "/Users/santhoshkurnapally/opt/anaconda3/lib/python3.9/site-packages/sklearn/linear_model/_stochastic_gradient.py:696: ConvergenceWarning: Maximum number of iteration reached before convergence. Consider increasing max_iter to improve the fit.\n",
      "  warnings.warn(\n",
      "/Users/santhoshkurnapally/opt/anaconda3/lib/python3.9/site-packages/sklearn/linear_model/_stochastic_gradient.py:696: ConvergenceWarning: Maximum number of iteration reached before convergence. Consider increasing max_iter to improve the fit.\n",
      "  warnings.warn(\n",
      "/Users/santhoshkurnapally/opt/anaconda3/lib/python3.9/site-packages/sklearn/linear_model/_stochastic_gradient.py:696: ConvergenceWarning: Maximum number of iteration reached before convergence. Consider increasing max_iter to improve the fit.\n",
      "  warnings.warn(\n",
      "/Users/santhoshkurnapally/opt/anaconda3/lib/python3.9/site-packages/sklearn/linear_model/_stochastic_gradient.py:696: ConvergenceWarning: Maximum number of iteration reached before convergence. Consider increasing max_iter to improve the fit.\n",
      "  warnings.warn(\n",
      "/Users/santhoshkurnapally/opt/anaconda3/lib/python3.9/site-packages/sklearn/linear_model/_stochastic_gradient.py:696: ConvergenceWarning: Maximum number of iteration reached before convergence. Consider increasing max_iter to improve the fit.\n",
      "  warnings.warn(\n",
      "/Users/santhoshkurnapally/opt/anaconda3/lib/python3.9/site-packages/sklearn/linear_model/_stochastic_gradient.py:696: ConvergenceWarning: Maximum number of iteration reached before convergence. Consider increasing max_iter to improve the fit.\n",
      "  warnings.warn(\n",
      "/Users/santhoshkurnapally/opt/anaconda3/lib/python3.9/site-packages/sklearn/linear_model/_stochastic_gradient.py:696: ConvergenceWarning: Maximum number of iteration reached before convergence. Consider increasing max_iter to improve the fit.\n",
      "  warnings.warn(\n",
      "/Users/santhoshkurnapally/opt/anaconda3/lib/python3.9/site-packages/sklearn/linear_model/_stochastic_gradient.py:696: ConvergenceWarning: Maximum number of iteration reached before convergence. Consider increasing max_iter to improve the fit.\n",
      "  warnings.warn(\n",
      "/Users/santhoshkurnapally/opt/anaconda3/lib/python3.9/site-packages/sklearn/linear_model/_stochastic_gradient.py:696: ConvergenceWarning: Maximum number of iteration reached before convergence. Consider increasing max_iter to improve the fit.\n",
      "  warnings.warn(\n",
      "/Users/santhoshkurnapally/opt/anaconda3/lib/python3.9/site-packages/sklearn/linear_model/_stochastic_gradient.py:696: ConvergenceWarning: Maximum number of iteration reached before convergence. Consider increasing max_iter to improve the fit.\n",
      "  warnings.warn(\n",
      "/Users/santhoshkurnapally/opt/anaconda3/lib/python3.9/site-packages/sklearn/linear_model/_stochastic_gradient.py:696: ConvergenceWarning: Maximum number of iteration reached before convergence. Consider increasing max_iter to improve the fit.\n",
      "  warnings.warn(\n"
     ]
    },
    {
     "name": "stderr",
     "output_type": "stream",
     "text": [
      "/Users/santhoshkurnapally/opt/anaconda3/lib/python3.9/site-packages/sklearn/linear_model/_stochastic_gradient.py:696: ConvergenceWarning: Maximum number of iteration reached before convergence. Consider increasing max_iter to improve the fit.\n",
      "  warnings.warn(\n",
      "/Users/santhoshkurnapally/opt/anaconda3/lib/python3.9/site-packages/sklearn/linear_model/_stochastic_gradient.py:696: ConvergenceWarning: Maximum number of iteration reached before convergence. Consider increasing max_iter to improve the fit.\n",
      "  warnings.warn(\n",
      "/Users/santhoshkurnapally/opt/anaconda3/lib/python3.9/site-packages/sklearn/linear_model/_stochastic_gradient.py:696: ConvergenceWarning: Maximum number of iteration reached before convergence. Consider increasing max_iter to improve the fit.\n",
      "  warnings.warn(\n",
      "/Users/santhoshkurnapally/opt/anaconda3/lib/python3.9/site-packages/sklearn/linear_model/_stochastic_gradient.py:696: ConvergenceWarning: Maximum number of iteration reached before convergence. Consider increasing max_iter to improve the fit.\n",
      "  warnings.warn(\n",
      "/Users/santhoshkurnapally/opt/anaconda3/lib/python3.9/site-packages/sklearn/linear_model/_stochastic_gradient.py:696: ConvergenceWarning: Maximum number of iteration reached before convergence. Consider increasing max_iter to improve the fit.\n",
      "  warnings.warn(\n",
      "/Users/santhoshkurnapally/opt/anaconda3/lib/python3.9/site-packages/sklearn/linear_model/_stochastic_gradient.py:696: ConvergenceWarning: Maximum number of iteration reached before convergence. Consider increasing max_iter to improve the fit.\n",
      "  warnings.warn(\n",
      "/Users/santhoshkurnapally/opt/anaconda3/lib/python3.9/site-packages/sklearn/linear_model/_stochastic_gradient.py:696: ConvergenceWarning: Maximum number of iteration reached before convergence. Consider increasing max_iter to improve the fit.\n",
      "  warnings.warn(\n",
      "/Users/santhoshkurnapally/opt/anaconda3/lib/python3.9/site-packages/sklearn/linear_model/_stochastic_gradient.py:696: ConvergenceWarning: Maximum number of iteration reached before convergence. Consider increasing max_iter to improve the fit.\n",
      "  warnings.warn(\n",
      "/Users/santhoshkurnapally/opt/anaconda3/lib/python3.9/site-packages/sklearn/linear_model/_stochastic_gradient.py:696: ConvergenceWarning: Maximum number of iteration reached before convergence. Consider increasing max_iter to improve the fit.\n",
      "  warnings.warn(\n",
      "/Users/santhoshkurnapally/opt/anaconda3/lib/python3.9/site-packages/sklearn/linear_model/_stochastic_gradient.py:696: ConvergenceWarning: Maximum number of iteration reached before convergence. Consider increasing max_iter to improve the fit.\n",
      "  warnings.warn(\n",
      "/Users/santhoshkurnapally/opt/anaconda3/lib/python3.9/site-packages/sklearn/linear_model/_stochastic_gradient.py:696: ConvergenceWarning: Maximum number of iteration reached before convergence. Consider increasing max_iter to improve the fit.\n",
      "  warnings.warn(\n",
      "/Users/santhoshkurnapally/opt/anaconda3/lib/python3.9/site-packages/sklearn/linear_model/_stochastic_gradient.py:696: ConvergenceWarning: Maximum number of iteration reached before convergence. Consider increasing max_iter to improve the fit.\n",
      "  warnings.warn(\n",
      "/Users/santhoshkurnapally/opt/anaconda3/lib/python3.9/site-packages/sklearn/linear_model/_stochastic_gradient.py:696: ConvergenceWarning: Maximum number of iteration reached before convergence. Consider increasing max_iter to improve the fit.\n",
      "  warnings.warn(\n",
      "/Users/santhoshkurnapally/opt/anaconda3/lib/python3.9/site-packages/sklearn/linear_model/_stochastic_gradient.py:696: ConvergenceWarning: Maximum number of iteration reached before convergence. Consider increasing max_iter to improve the fit.\n",
      "  warnings.warn(\n",
      "/Users/santhoshkurnapally/opt/anaconda3/lib/python3.9/site-packages/sklearn/linear_model/_stochastic_gradient.py:696: ConvergenceWarning: Maximum number of iteration reached before convergence. Consider increasing max_iter to improve the fit.\n",
      "  warnings.warn(\n",
      "/Users/santhoshkurnapally/opt/anaconda3/lib/python3.9/site-packages/sklearn/linear_model/_stochastic_gradient.py:696: ConvergenceWarning: Maximum number of iteration reached before convergence. Consider increasing max_iter to improve the fit.\n",
      "  warnings.warn(\n",
      "/Users/santhoshkurnapally/opt/anaconda3/lib/python3.9/site-packages/sklearn/linear_model/_stochastic_gradient.py:696: ConvergenceWarning: Maximum number of iteration reached before convergence. Consider increasing max_iter to improve the fit.\n",
      "  warnings.warn(\n",
      "/Users/santhoshkurnapally/opt/anaconda3/lib/python3.9/site-packages/sklearn/linear_model/_stochastic_gradient.py:696: ConvergenceWarning: Maximum number of iteration reached before convergence. Consider increasing max_iter to improve the fit.\n",
      "  warnings.warn(\n",
      "/Users/santhoshkurnapally/opt/anaconda3/lib/python3.9/site-packages/sklearn/linear_model/_stochastic_gradient.py:696: ConvergenceWarning: Maximum number of iteration reached before convergence. Consider increasing max_iter to improve the fit.\n",
      "  warnings.warn(\n",
      "/Users/santhoshkurnapally/opt/anaconda3/lib/python3.9/site-packages/sklearn/linear_model/_stochastic_gradient.py:696: ConvergenceWarning: Maximum number of iteration reached before convergence. Consider increasing max_iter to improve the fit.\n",
      "  warnings.warn(\n",
      "/Users/santhoshkurnapally/opt/anaconda3/lib/python3.9/site-packages/sklearn/linear_model/_stochastic_gradient.py:696: ConvergenceWarning: Maximum number of iteration reached before convergence. Consider increasing max_iter to improve the fit.\n",
      "  warnings.warn(\n",
      "/Users/santhoshkurnapally/opt/anaconda3/lib/python3.9/site-packages/sklearn/linear_model/_stochastic_gradient.py:696: ConvergenceWarning: Maximum number of iteration reached before convergence. Consider increasing max_iter to improve the fit.\n",
      "  warnings.warn(\n",
      "/Users/santhoshkurnapally/opt/anaconda3/lib/python3.9/site-packages/sklearn/linear_model/_stochastic_gradient.py:696: ConvergenceWarning: Maximum number of iteration reached before convergence. Consider increasing max_iter to improve the fit.\n",
      "  warnings.warn(\n",
      "/Users/santhoshkurnapally/opt/anaconda3/lib/python3.9/site-packages/sklearn/linear_model/_stochastic_gradient.py:696: ConvergenceWarning: Maximum number of iteration reached before convergence. Consider increasing max_iter to improve the fit.\n",
      "  warnings.warn(\n"
     ]
    },
    {
     "data": {
      "text/plain": [
       "CalibratedClassifierCV(base_estimator=SGDClassifier(alpha=0.1, loss='log',\n",
       "                                                    penalty='elasticnet'),\n",
       "                       method='isotonic')"
      ]
     },
     "execution_count": 30,
     "metadata": {},
     "output_type": "execute_result"
    }
   ],
   "source": [
    "logistic_clf = SGDClassifier(loss = 'log')\n",
    "param_grids = {'base_estimator__alpha': [0.000001,0.00001,0.0001, 0.001, 0.01,0.1,1.0],'base_estimator__penalty' : ['l1','l2','elasticnet'], 'method' : ['sigmoid','isotonic']}\n",
    "#param_grids = {'base_estimator__penalty' : ['l1','l2','elasticnet'], 'method' : ['sigmoid','isotonic']}\n",
    "logistic_classif = GridSearchCV(estimator = CalibratedClassifierCV(base_estimator = logistic_clf),param_grid = param_grids,cv = 2, scoring = 'neg_log_loss',verbose = 2,n_jobs=-1)\n",
    "logistic_classif.fit(X_train,y_train)\n",
    "logistic_classif.best_estimator_\n"
   ]
  },
  {
   "cell_type": "markdown",
   "metadata": {},
   "source": [
    "CalibratedClassifierCV(base_estimator=SGDClassifier(alpha=0.1, loss='log',penalty='elasticnet'),method='isotonic')"
   ]
  },
  {
   "cell_type": "code",
   "execution_count": 31,
   "metadata": {},
   "outputs": [
    {
     "name": "stdout",
     "output_type": "stream",
     "text": [
      "accuracy score : 0.7496666666666667\n",
      "f1 score : 0.5843940232429441\n",
      "auc score : 0.8332335824011741\n",
      "log loss : 0.4838266481047292\n",
      "classification report : \n",
      "               precision    recall  f1-score   support\n",
      "\n",
      "           0       0.75      0.91      0.82      1887\n",
      "           1       0.76      0.47      0.58      1113\n",
      "\n",
      "    accuracy                           0.75      3000\n",
      "   macro avg       0.75      0.69      0.70      3000\n",
      "weighted avg       0.75      0.75      0.73      3000\n",
      "\n",
      "*********** confusion matrx ***********\n"
     ]
    },
    {
     "data": {
      "image/png": "[encoded data removed]",
      "text/plain": [
       "<Figure size 1440x288 with 6 Axes>"
      ]
     },
     "metadata": {
      "needs_background": "light"
     },
     "output_type": "display_data"
    },
    {
     "name": "stdout",
     "output_type": "stream",
     "text": [
      "********* dataset *********\n"
     ]
    },
    {
     "data": {
      "text/html": [
       "<div>\n",
       "<style scoped>\n",
       "    .dataframe tbody tr th:only-of-type {\n",
       "        vertical-align: middle;\n",
       "    }\n",
       "\n",
       "    .dataframe tbody tr th {\n",
       "        vertical-align: top;\n",
       "    }\n",
       "\n",
       "    .dataframe thead th {\n",
       "        text-align: right;\n",
       "    }\n",
       "</style>\n",
       "<table border=\"1\" class=\"dataframe\">\n",
       "  <thead>\n",
       "    <tr style=\"text-align: right;\">\n",
       "      <th></th>\n",
       "      <th>Random</th>\n",
       "      <th>LR</th>\n",
       "      <th>SVC</th>\n",
       "      <th>DT</th>\n",
       "      <th>RF</th>\n",
       "      <th>XGB</th>\n",
       "    </tr>\n",
       "  </thead>\n",
       "  <tbody>\n",
       "    <tr>\n",
       "      <th>accuracy_score</th>\n",
       "      <td>0.496333</td>\n",
       "      <td>0.749667</td>\n",
       "      <td>0.0</td>\n",
       "      <td>0.0</td>\n",
       "      <td>0.0</td>\n",
       "      <td>0.0</td>\n",
       "    </tr>\n",
       "    <tr>\n",
       "      <th>f1_score</th>\n",
       "      <td>0.430026</td>\n",
       "      <td>0.584394</td>\n",
       "      <td>0.0</td>\n",
       "      <td>0.0</td>\n",
       "      <td>0.0</td>\n",
       "      <td>0.0</td>\n",
       "    </tr>\n",
       "    <tr>\n",
       "      <th>roc_auc_score</th>\n",
       "      <td>0.514003</td>\n",
       "      <td>0.833234</td>\n",
       "      <td>0.0</td>\n",
       "      <td>0.0</td>\n",
       "      <td>0.0</td>\n",
       "      <td>0.0</td>\n",
       "    </tr>\n",
       "    <tr>\n",
       "      <th>log_loss</th>\n",
       "      <td>0.868735</td>\n",
       "      <td>0.483827</td>\n",
       "      <td>0.0</td>\n",
       "      <td>0.0</td>\n",
       "      <td>0.0</td>\n",
       "      <td>0.0</td>\n",
       "    </tr>\n",
       "  </tbody>\n",
       "</table>\n",
       "</div>"
      ],
      "text/plain": [
       "                  Random        LR  SVC   DT   RF  XGB\n",
       "accuracy_score  0.496333  0.749667  0.0  0.0  0.0  0.0\n",
       "f1_score        0.430026  0.584394  0.0  0.0  0.0  0.0\n",
       "roc_auc_score   0.514003  0.833234  0.0  0.0  0.0  0.0\n",
       "log_loss        0.868735  0.483827  0.0  0.0  0.0  0.0"
      ]
     },
     "execution_count": 31,
     "metadata": {},
     "output_type": "execute_result"
    },
    {
     "name": "stdout",
     "output_type": "stream",
     "text": [
      "[CV] END base_estimator__alpha=1e-06, base_estimator__penalty=l2, method=isotonic; total time=   4.8s\n",
      "[CV] END base_estimator__alpha=1e-06, base_estimator__penalty=elasticnet, method=isotonic; total time=  10.0s\n",
      "[CV] END base_estimator__alpha=1e-05, base_estimator__penalty=l2, method=sigmoid; total time=   4.9s\n",
      "[CV] END base_estimator__alpha=1e-05, base_estimator__penalty=elasticnet, method=isotonic; total time=  10.5s\n",
      "[CV] END base_estimator__alpha=0.0001, base_estimator__penalty=l2, method=isotonic; total time=   5.2s\n",
      "[CV] END base_estimator__alpha=0.001, base_estimator__penalty=l1, method=sigmoid; total time=  37.4s\n",
      "[CV] END base_estimator__alpha=0.01, base_estimator__penalty=elasticnet, method=sigmoid; total time=  13.3s\n",
      "[CV] END base_estimator__alpha=0.1, base_estimator__penalty=l1, method=isotonic; total time= 1.9min\n",
      "[CV] END base_estimator__alpha=1.0, base_estimator__penalty=l2, method=sigmoid; total time=   5.8s\n",
      "[CV] END base_estimator__alpha=1.0, base_estimator__penalty=elasticnet, method=sigmoid; total time=   8.4s\n",
      "[CV] END base_estimator__alpha=1e-06, base_estimator__penalty=l1, method=isotonic; total time=  10.6s\n",
      "[CV] END base_estimator__alpha=1e-05, base_estimator__penalty=l1, method=isotonic; total time=  11.1s\n",
      "[CV] END base_estimator__alpha=0.0001, base_estimator__penalty=l1, method=isotonic; total time=  16.0s\n",
      "[CV] END base_estimator__alpha=0.001, base_estimator__penalty=l1, method=isotonic; total time=  31.7s\n",
      "[CV] END base_estimator__alpha=0.01, base_estimator__penalty=l2, method=isotonic; total time=   4.6s\n",
      "[CV] END base_estimator__alpha=0.01, base_estimator__penalty=elasticnet, method=isotonic; total time=  12.6s\n",
      "[CV] END base_estimator__alpha=0.1, base_estimator__penalty=l1, method=isotonic; total time= 2.0min\n",
      "[CV] END base_estimator__alpha=1.0, base_estimator__penalty=elasticnet, method=sigmoid; total time=   8.5s\n",
      "[CV] END base_estimator__alpha=1e-06, base_estimator__penalty=l2, method=isotonic; total time=   3.8s\n",
      "[CV] END base_estimator__alpha=1e-06, base_estimator__penalty=elasticnet, method=sigmoid; total time=  11.1s\n",
      "[CV] END base_estimator__alpha=1e-05, base_estimator__penalty=l2, method=isotonic; total time=   4.9s\n",
      "[CV] END base_estimator__alpha=1e-05, base_estimator__penalty=elasticnet, method=isotonic; total time=  10.6s\n",
      "[CV] END base_estimator__alpha=0.0001, base_estimator__penalty=l2, method=isotonic; total time=   4.3s\n",
      "[CV] END base_estimator__alpha=0.001, base_estimator__penalty=l1, method=sigmoid; total time=  27.6s\n",
      "[CV] END base_estimator__alpha=0.01, base_estimator__penalty=l2, method=sigmoid; total time=   5.7s\n",
      "[CV] END base_estimator__alpha=0.01, base_estimator__penalty=l2, method=isotonic; total time=   6.8s\n",
      "[CV] END base_estimator__alpha=0.01, base_estimator__penalty=elasticnet, method=isotonic; total time=  10.8s\n",
      "[CV] END base_estimator__alpha=0.1, base_estimator__penalty=l1, method=sigmoid; total time= 1.9min\n",
      "[CV] END base_estimator__alpha=1.0, base_estimator__penalty=l2, method=isotonic; total time=   5.7s\n",
      "[CV] END base_estimator__alpha=1.0, base_estimator__penalty=elasticnet, method=isotonic; total time=   8.2s\n",
      "[CV] END base_estimator__alpha=1e-06, base_estimator__penalty=l2, method=sigmoid; total time=   4.9s\n",
      "[CV] END base_estimator__alpha=1e-06, base_estimator__penalty=elasticnet, method=isotonic; total time=  10.4s\n",
      "[CV] END base_estimator__alpha=1e-05, base_estimator__penalty=l2, method=isotonic; total time=   4.7s\n",
      "[CV] END base_estimator__alpha=0.0001, base_estimator__penalty=l1, method=sigmoid; total time=  13.7s\n",
      "[CV] END base_estimator__alpha=0.0001, base_estimator__penalty=elasticnet, method=sigmoid; total time=   8.9s\n",
      "[CV] END base_estimator__alpha=0.001, base_estimator__penalty=l2, method=sigmoid; total time=   5.1s\n",
      "[CV] END base_estimator__alpha=0.001, base_estimator__penalty=l2, method=isotonic; total time=   4.7s\n",
      "[CV] END base_estimator__alpha=0.001, base_estimator__penalty=elasticnet, method=isotonic; total time=  11.4s\n",
      "[CV] END base_estimator__alpha=0.01, base_estimator__penalty=l2, method=sigmoid; total time=   6.0s\n",
      "[CV] END base_estimator__alpha=0.01, base_estimator__penalty=elasticnet, method=sigmoid; total time=  13.0s\n",
      "[CV] END base_estimator__alpha=0.1, base_estimator__penalty=l1, method=sigmoid; total time= 1.9min\n",
      "[CV] END base_estimator__alpha=1.0, base_estimator__penalty=l2, method=sigmoid; total time=   5.1s\n",
      "[CV] END base_estimator__alpha=1.0, base_estimator__penalty=l2, method=isotonic; total time=   5.6s\n",
      "[CV] END base_estimator__alpha=1.0, base_estimator__penalty=elasticnet, method=isotonic; total time=   9.7s\n",
      "[CV] END base_estimator__alpha=1e-06, base_estimator__penalty=l1, method=isotonic; total time=   9.0s\n",
      "[CV] END base_estimator__alpha=1e-05, base_estimator__penalty=l1, method=sigmoid; total time=  10.0s\n",
      "[CV] END base_estimator__alpha=1e-05, base_estimator__penalty=elasticnet, method=sigmoid; total time=  10.1s\n",
      "[CV] END base_estimator__alpha=0.0001, base_estimator__penalty=l2, method=sigmoid; total time=   4.8s\n",
      "[CV] END base_estimator__alpha=0.0001, base_estimator__penalty=elasticnet, method=isotonic; total time=  14.5s\n",
      "[CV] END base_estimator__alpha=0.001, base_estimator__penalty=elasticnet, method=sigmoid; total time=  12.0s\n",
      "[CV] END base_estimator__alpha=0.01, base_estimator__penalty=l1, method=isotonic; total time= 1.4min\n",
      "[CV] END base_estimator__alpha=0.1, base_estimator__penalty=l2, method=sigmoid; total time=   5.9s\n",
      "[CV] END base_estimator__alpha=0.1, base_estimator__penalty=l2, method=isotonic; total time=   6.9s\n",
      "[CV] END base_estimator__alpha=0.1, base_estimator__penalty=elasticnet, method=isotonic; total time=  15.6s\n",
      "[CV] END base_estimator__alpha=1.0, base_estimator__penalty=l1, method=sigmoid; total time= 1.7min\n",
      "[CV] END base_estimator__alpha=1e-06, base_estimator__penalty=l1, method=sigmoid; total time=   9.8s\n",
      "[CV] END base_estimator__alpha=1e-05, base_estimator__penalty=l1, method=sigmoid; total time=  11.5s\n",
      "[CV] END base_estimator__alpha=0.0001, base_estimator__penalty=l1, method=isotonic; total time=  12.8s\n",
      "[CV] END base_estimator__alpha=0.0001, base_estimator__penalty=elasticnet, method=isotonic; total time=   9.7s\n",
      "[CV] END base_estimator__alpha=0.001, base_estimator__penalty=l2, method=sigmoid; total time=   5.2s\n",
      "[CV] END base_estimator__alpha=0.001, base_estimator__penalty=elasticnet, method=sigmoid; total time=  10.4s\n",
      "[CV] END base_estimator__alpha=0.01, base_estimator__penalty=l1, method=sigmoid; total time= 1.6min\n",
      "[CV] END base_estimator__alpha=0.1, base_estimator__penalty=elasticnet, method=sigmoid; total time=  14.3s\n",
      "[CV] END base_estimator__alpha=1.0, base_estimator__penalty=l1, method=sigmoid; total time= 1.9min\n",
      "[CV] END base_estimator__alpha=1e-06, base_estimator__penalty=l1, method=sigmoid; total time=  10.3s\n",
      "[CV] END base_estimator__alpha=1e-05, base_estimator__penalty=l1, method=isotonic; total time=  10.0s\n",
      "[CV] END base_estimator__alpha=0.0001, base_estimator__penalty=l1, method=sigmoid; total time=  15.7s\n",
      "[CV] END base_estimator__alpha=0.001, base_estimator__penalty=l1, method=isotonic; total time=  23.7s\n",
      "[CV] END base_estimator__alpha=0.01, base_estimator__penalty=l1, method=sigmoid; total time= 1.5min\n",
      "[CV] END base_estimator__alpha=0.1, base_estimator__penalty=l2, method=sigmoid; total time=   6.8s\n",
      "[CV] END base_estimator__alpha=0.1, base_estimator__penalty=elasticnet, method=sigmoid; total time=  17.3s\n",
      "[CV] END base_estimator__alpha=1.0, base_estimator__penalty=l1, method=isotonic; total time= 1.9min\n",
      "[CV] END base_estimator__alpha=1e-06, base_estimator__penalty=l2, method=sigmoid; total time=   4.6s\n",
      "[CV] END base_estimator__alpha=1e-06, base_estimator__penalty=elasticnet, method=sigmoid; total time=   8.2s\n",
      "[CV] END base_estimator__alpha=1e-05, base_estimator__penalty=l2, method=sigmoid; total time=   5.8s\n",
      "[CV] END base_estimator__alpha=1e-05, base_estimator__penalty=elasticnet, method=sigmoid; total time=  10.0s\n",
      "[CV] END base_estimator__alpha=0.0001, base_estimator__penalty=l2, method=sigmoid; total time=   4.8s\n",
      "[CV] END base_estimator__alpha=0.0001, base_estimator__penalty=elasticnet, method=sigmoid; total time=  11.5s\n",
      "[CV] END base_estimator__alpha=0.001, base_estimator__penalty=l2, method=isotonic; total time=   5.8s\n",
      "[CV] END base_estimator__alpha=0.001, base_estimator__penalty=elasticnet, method=isotonic; total time=  10.9s\n",
      "[CV] END base_estimator__alpha=0.01, base_estimator__penalty=l1, method=isotonic; total time= 1.5min\n",
      "[CV] END base_estimator__alpha=0.1, base_estimator__penalty=l2, method=isotonic; total time=   6.4s\n",
      "[CV] END base_estimator__alpha=0.1, base_estimator__penalty=elasticnet, method=isotonic; total time=  16.9s\n",
      "[CV] END base_estimator__alpha=1.0, base_estimator__penalty=l1, method=isotonic; total time= 2.0min\n"
     ]
    }
   ],
   "source": [
    "logistic_clf = logistic_classif.best_estimator_\n",
    "logistic_clf.fit(X_train,y_train)\n",
    "metrics(logistic_clf,X_test,y_test,name='LR')\n",
    "print('********* dataset *********')\n",
    "result_dataset"
   ]
  },
  {
   "cell_type": "markdown",
   "metadata": {},
   "source": [
    "## Support Vector Classification"
   ]
  },
  {
   "cell_type": "code",
   "execution_count": 32,
   "metadata": {},
   "outputs": [
    {
     "name": "stdout",
     "output_type": "stream",
     "text": [
      "Fitting 2 folds for each of 8 candidates, totalling 16 fits\n",
      "[CV] END base_estimator__C=0.001, base_estimator__kernel=poly, method=isotonic; total time= 1.4min\n",
      "[CV] END base_estimator__C=0.001, base_estimator__kernel=rbf, method=sigmoid; total time= 1.7min\n",
      "[CV] END base_estimator__C=0.001, base_estimator__kernel=sigmoid, method=sigmoid; total time= 1.3min\n",
      "[CV] END base_estimator__C=0.001, base_estimator__kernel=poly, method=sigmoid; total time= 1.4min\n",
      "[CV] END base_estimator__C=0.001, base_estimator__kernel=rbf, method=sigmoid; total time= 1.7min\n",
      "[CV] END base_estimator__C=0.001, base_estimator__kernel=sigmoid, method=sigmoid; total time= 1.3min\n",
      "[CV] END base_estimator__C=0.001, base_estimator__kernel=poly, method=isotonic; total time= 1.4min\n",
      "[CV] END base_estimator__C=0.001, base_estimator__kernel=rbf, method=isotonic; total time= 1.7min\n",
      "[CV] END base_estimator__C=0.001, base_estimator__kernel=sigmoid, method=isotonic; total time= 1.3min\n",
      "[CV] END base_estimator__C=0.001, base_estimator__kernel=poly, method=sigmoid; total time= 1.4min\n",
      "[CV] END base_estimator__C=0.001, base_estimator__kernel=rbf, method=isotonic; total time= 1.7min\n",
      "[CV] END base_estimator__C=0.001, base_estimator__kernel=sigmoid, method=isotonic; total time= 1.3min\n",
      "[CV] END base_estimator__C=0.001, base_estimator__kernel=linear, method=sigmoid; total time= 5.6min\n",
      "[CV] END base_estimator__C=0.001, base_estimator__kernel=linear, method=isotonic; total time= 5.6min\n",
      "[CV] END base_estimator__C=0.001, base_estimator__kernel=linear, method=isotonic; total time= 5.6min\n",
      "[CV] END base_estimator__C=0.001, base_estimator__kernel=linear, method=sigmoid; total time= 5.6min\n"
     ]
    },
    {
     "data": {
      "text/plain": [
       "CalibratedClassifierCV(base_estimator=SVC(C=0.001, kernel='linear',\n",
       "                                          random_state=42),\n",
       "                       method='isotonic')"
      ]
     },
     "execution_count": 32,
     "metadata": {},
     "output_type": "execute_result"
    }
   ],
   "source": [
    "svc_clf = SVC(random_state = 42)\n",
    "#param_grids = {'base_estimator__C': [0.001, 0.01, 1.0, 10.0],'base_estimator__kernel' : ['linear', 'poly', 'rbf', 'sigmoid'],'method' : ['sigmoid','isotonic']}\n",
    "param_grids = {'base_estimator__C': [0.001],'base_estimator__kernel' : ['linear', 'poly', 'rbf', 'sigmoid'],'method' : ['sigmoid','isotonic']}\n",
    "svc_clf = GridSearchCV(estimator = CalibratedClassifierCV(base_estimator = svc_clf),param_grid = param_grids,cv = 2, scoring = 'neg_log_loss',verbose = 2,n_jobs=-1)\n",
    "svc_clf.fit(X_train,y_train)\n",
    "svc_clf.best_estimator_"
   ]
  },
  {
   "cell_type": "markdown",
   "metadata": {},
   "source": [
    "CalibratedClassifierCV(base_estimator=SVC(C=0.001, kernel='linear',\n",
    "                                          random_state=42),\n",
    "                       method='isotonic')"
   ]
  },
  {
   "cell_type": "code",
   "execution_count": 35,
   "metadata": {},
   "outputs": [
    {
     "name": "stdout",
     "output_type": "stream",
     "text": [
      "accuracy score : 0.7563333333333333\n",
      "f1 score : 0.6178776790381599\n",
      "auc score : 0.8323384427712951\n",
      "log loss : 0.47379845974827683\n",
      "classification report : \n",
      "               precision    recall  f1-score   support\n",
      "\n",
      "           0       0.76      0.89      0.82      1887\n",
      "           1       0.74      0.53      0.62      1113\n",
      "\n",
      "    accuracy                           0.76      3000\n",
      "   macro avg       0.75      0.71      0.72      3000\n",
      "weighted avg       0.75      0.76      0.75      3000\n",
      "\n",
      "*********** confusion matrx ***********\n"
     ]
    },
    {
     "data": {
      "image/png": "[encoded data removed]",
      "text/plain": [
       "<Figure size 1440x288 with 6 Axes>"
      ]
     },
     "metadata": {
      "needs_background": "light"
     },
     "output_type": "display_data"
    },
    {
     "name": "stdout",
     "output_type": "stream",
     "text": [
      "********* dataset *********\n"
     ]
    },
    {
     "data": {
      "text/html": [
       "<div>\n",
       "<style scoped>\n",
       "    .dataframe tbody tr th:only-of-type {\n",
       "        vertical-align: middle;\n",
       "    }\n",
       "\n",
       "    .dataframe tbody tr th {\n",
       "        vertical-align: top;\n",
       "    }\n",
       "\n",
       "    .dataframe thead th {\n",
       "        text-align: right;\n",
       "    }\n",
       "</style>\n",
       "<table border=\"1\" class=\"dataframe\">\n",
       "  <thead>\n",
       "    <tr style=\"text-align: right;\">\n",
       "      <th></th>\n",
       "      <th>Random</th>\n",
       "      <th>LR</th>\n",
       "      <th>SVC</th>\n",
       "      <th>DT</th>\n",
       "      <th>RF</th>\n",
       "      <th>XGB</th>\n",
       "    </tr>\n",
       "  </thead>\n",
       "  <tbody>\n",
       "    <tr>\n",
       "      <th>accuracy_score</th>\n",
       "      <td>0.496333</td>\n",
       "      <td>0.749667</td>\n",
       "      <td>0.756333</td>\n",
       "      <td>0.0</td>\n",
       "      <td>0.0</td>\n",
       "      <td>0.0</td>\n",
       "    </tr>\n",
       "    <tr>\n",
       "      <th>f1_score</th>\n",
       "      <td>0.430026</td>\n",
       "      <td>0.584394</td>\n",
       "      <td>0.617878</td>\n",
       "      <td>0.0</td>\n",
       "      <td>0.0</td>\n",
       "      <td>0.0</td>\n",
       "    </tr>\n",
       "    <tr>\n",
       "      <th>roc_auc_score</th>\n",
       "      <td>0.514003</td>\n",
       "      <td>0.833234</td>\n",
       "      <td>0.832338</td>\n",
       "      <td>0.0</td>\n",
       "      <td>0.0</td>\n",
       "      <td>0.0</td>\n",
       "    </tr>\n",
       "    <tr>\n",
       "      <th>log_loss</th>\n",
       "      <td>0.868735</td>\n",
       "      <td>0.483827</td>\n",
       "      <td>0.473798</td>\n",
       "      <td>0.0</td>\n",
       "      <td>0.0</td>\n",
       "      <td>0.0</td>\n",
       "    </tr>\n",
       "  </tbody>\n",
       "</table>\n",
       "</div>"
      ],
      "text/plain": [
       "                  Random        LR       SVC   DT   RF  XGB\n",
       "accuracy_score  0.496333  0.749667  0.756333  0.0  0.0  0.0\n",
       "f1_score        0.430026  0.584394  0.617878  0.0  0.0  0.0\n",
       "roc_auc_score   0.514003  0.833234  0.832338  0.0  0.0  0.0\n",
       "log_loss        0.868735  0.483827  0.473798  0.0  0.0  0.0"
      ]
     },
     "execution_count": 35,
     "metadata": {},
     "output_type": "execute_result"
    }
   ],
   "source": [
    "svc_clf = svc_clf.best_estimator_\n",
    "svc_clf.fit(X_train,y_train)\n",
    "metrics(svc_clf,X_test,y_test,name='SVC')\n",
    "print('********* dataset *********')\n",
    "result_dataset"
   ]
  },
  {
   "cell_type": "markdown",
   "metadata": {},
   "source": [
    "## Decision Trees"
   ]
  },
  {
   "cell_type": "code",
   "execution_count": 38,
   "metadata": {},
   "outputs": [
    {
     "name": "stdout",
     "output_type": "stream",
     "text": [
      "Fitting 2 folds for each of 2 candidates, totalling 4 fits\n"
     ]
    },
    {
     "data": {
      "text/plain": [
       "CalibratedClassifierCV(base_estimator=DecisionTreeClassifier(max_depth=10,\n",
       "                                                             random_state=42),\n",
       "                       method='isotonic')"
      ]
     },
     "execution_count": 38,
     "metadata": {},
     "output_type": "execute_result"
    }
   ],
   "source": [
    "dt_clf = DecisionTreeClassifier(random_state = 42)\n",
    "#param_grids = {'base_estimator__criterion': ['gini','entropy'],'base_estimator__max_depth' : [10,15,20,25,30,35,40,50],'method' : ['sigmoid','isotonic']}\n",
    "param_grids = {'base_estimator__max_depth' : [10],'method' : ['sigmoid','isotonic']}\n",
    "dt_clf = GridSearchCV(estimator = CalibratedClassifierCV(base_estimator = dt_clf),param_grid = param_grids,cv = 2, scoring = 'neg_log_loss',verbose = 2,n_jobs=-1)\n",
    "dt_clf.fit(X_train,y_train)\n",
    "dt_clf.best_estimator_"
   ]
  },
  {
   "cell_type": "code",
   "execution_count": 39,
   "metadata": {},
   "outputs": [
    {
     "name": "stdout",
     "output_type": "stream",
     "text": [
      "accuracy score : 0.7833333333333333\n",
      "f1 score : 0.6549893842887473\n",
      "auc score : 0.8734401120638634\n",
      "log loss : 0.46688892460385145\n",
      "classification report : \n",
      "               precision    recall  f1-score   support\n",
      "\n",
      "           0       0.78      0.92      0.84      1887\n",
      "           1       0.80      0.55      0.65      1113\n",
      "\n",
      "    accuracy                           0.78      3000\n",
      "   macro avg       0.79      0.74      0.75      3000\n",
      "weighted avg       0.79      0.78      0.77      3000\n",
      "\n",
      "*********** confusion matrx ***********\n"
     ]
    },
    {
     "data": {
      "image/png": "[encoded data removed]",
      "text/plain": [
       "<Figure size 1440x288 with 6 Axes>"
      ]
     },
     "metadata": {
      "needs_background": "light"
     },
     "output_type": "display_data"
    },
    {
     "name": "stdout",
     "output_type": "stream",
     "text": [
      "********* dataset *********\n"
     ]
    },
    {
     "data": {
      "text/html": [
       "<div>\n",
       "<style scoped>\n",
       "    .dataframe tbody tr th:only-of-type {\n",
       "        vertical-align: middle;\n",
       "    }\n",
       "\n",
       "    .dataframe tbody tr th {\n",
       "        vertical-align: top;\n",
       "    }\n",
       "\n",
       "    .dataframe thead th {\n",
       "        text-align: right;\n",
       "    }\n",
       "</style>\n",
       "<table border=\"1\" class=\"dataframe\">\n",
       "  <thead>\n",
       "    <tr style=\"text-align: right;\">\n",
       "      <th></th>\n",
       "      <th>Random</th>\n",
       "      <th>LR</th>\n",
       "      <th>SVC</th>\n",
       "      <th>DT</th>\n",
       "      <th>RF</th>\n",
       "      <th>XGB</th>\n",
       "    </tr>\n",
       "  </thead>\n",
       "  <tbody>\n",
       "    <tr>\n",
       "      <th>accuracy_score</th>\n",
       "      <td>0.496333</td>\n",
       "      <td>0.749667</td>\n",
       "      <td>0.756333</td>\n",
       "      <td>0.783333</td>\n",
       "      <td>0.0</td>\n",
       "      <td>0.0</td>\n",
       "    </tr>\n",
       "    <tr>\n",
       "      <th>f1_score</th>\n",
       "      <td>0.430026</td>\n",
       "      <td>0.584394</td>\n",
       "      <td>0.617878</td>\n",
       "      <td>0.654989</td>\n",
       "      <td>0.0</td>\n",
       "      <td>0.0</td>\n",
       "    </tr>\n",
       "    <tr>\n",
       "      <th>roc_auc_score</th>\n",
       "      <td>0.514003</td>\n",
       "      <td>0.833234</td>\n",
       "      <td>0.832338</td>\n",
       "      <td>0.873440</td>\n",
       "      <td>0.0</td>\n",
       "      <td>0.0</td>\n",
       "    </tr>\n",
       "    <tr>\n",
       "      <th>log_loss</th>\n",
       "      <td>0.868735</td>\n",
       "      <td>0.483827</td>\n",
       "      <td>0.473798</td>\n",
       "      <td>0.466889</td>\n",
       "      <td>0.0</td>\n",
       "      <td>0.0</td>\n",
       "    </tr>\n",
       "  </tbody>\n",
       "</table>\n",
       "</div>"
      ],
      "text/plain": [
       "                  Random        LR       SVC        DT   RF  XGB\n",
       "accuracy_score  0.496333  0.749667  0.756333  0.783333  0.0  0.0\n",
       "f1_score        0.430026  0.584394  0.617878  0.654989  0.0  0.0\n",
       "roc_auc_score   0.514003  0.833234  0.832338  0.873440  0.0  0.0\n",
       "log_loss        0.868735  0.483827  0.473798  0.466889  0.0  0.0"
      ]
     },
     "execution_count": 39,
     "metadata": {},
     "output_type": "execute_result"
    },
    {
     "name": "stdout",
     "output_type": "stream",
     "text": [
      "[CV] END .......base_estimator__max_depth=10, method=sigmoid; total time=  14.8s\n",
      "[CV] END ......base_estimator__max_depth=10, method=isotonic; total time=  14.8s\n",
      "[CV] END ......base_estimator__max_depth=10, method=isotonic; total time=  15.0s\n",
      "[CV] END .......base_estimator__max_depth=10, method=sigmoid; total time=  15.0s\n"
     ]
    }
   ],
   "source": [
    "dt_clf = dt_clf.best_estimator_\n",
    "dt_clf.fit(X_train,y_train)\n",
    "metrics(dt_clf,X_test,y_test,name='DT')\n",
    "print('********* dataset *********')\n",
    "result_dataset"
   ]
  },
  {
   "cell_type": "markdown",
   "metadata": {},
   "source": [
    "## Random Forest"
   ]
  },
  {
   "cell_type": "code",
   "execution_count": 44,
   "metadata": {},
   "outputs": [
    {
     "name": "stdout",
     "output_type": "stream",
     "text": [
      "Fitting 2 folds for each of 1 candidates, totalling 2 fits\n"
     ]
    },
    {
     "data": {
      "text/plain": [
       "CalibratedClassifierCV(base_estimator=RandomForestClassifier(criterion='entropy',\n",
       "                                                             random_state=42),\n",
       "                       method='isotonic')"
      ]
     },
     "execution_count": 44,
     "metadata": {},
     "output_type": "execute_result"
    }
   ],
   "source": [
    "rf_clf = RandomForestClassifier(random_state = 42)\n",
    "#param_grids = {'base_estimator__n_estimators' : [60,70,80,90,100,110,20],'base_estimator__criterion' : ['gini', 'entropy'],'base_estimator__max_depth' : [None],'method' : ['sigmoid','isotonic']}\n",
    "param_grids = {'base_estimator__n_estimators' : [100],'base_estimator__criterion' : ['entropy'],'base_estimator__max_depth' : [None],'method' : ['isotonic']}\n",
    "rf_clf = GridSearchCV(estimator = CalibratedClassifierCV(base_estimator = rf_clf),param_grid = param_grids,cv = 2, scoring = 'neg_log_loss',verbose = 2,n_jobs=-1)\n",
    "rf_clf.fit(X_train,y_train)\n",
    "rf_clf.best_estimator_"
   ]
  },
  {
   "cell_type": "code",
   "execution_count": 45,
   "metadata": {},
   "outputs": [
    {
     "name": "stdout",
     "output_type": "stream",
     "text": [
      "accuracy score : 0.7916666666666666\n",
      "f1 score : 0.7155211652253073\n",
      "auc score : 0.8871828860730081\n",
      "log loss : 0.4037144839800622\n",
      "classification report : \n",
      "               precision    recall  f1-score   support\n",
      "\n",
      "           0       0.83      0.84      0.84      1887\n",
      "           1       0.73      0.71      0.72      1113\n",
      "\n",
      "    accuracy                           0.79      3000\n",
      "   macro avg       0.78      0.77      0.78      3000\n",
      "weighted avg       0.79      0.79      0.79      3000\n",
      "\n",
      "*********** confusion matrx ***********\n"
     ]
    },
    {
     "data": {
      "image/png": "[encoded data removed]",
      "text/plain": [
       "<Figure size 1440x288 with 6 Axes>"
      ]
     },
     "metadata": {
      "needs_background": "light"
     },
     "output_type": "display_data"
    },
    {
     "name": "stdout",
     "output_type": "stream",
     "text": [
      "********* dataset *********\n"
     ]
    },
    {
     "data": {
      "text/html": [
       "<div>\n",
       "<style scoped>\n",
       "    .dataframe tbody tr th:only-of-type {\n",
       "        vertical-align: middle;\n",
       "    }\n",
       "\n",
       "    .dataframe tbody tr th {\n",
       "        vertical-align: top;\n",
       "    }\n",
       "\n",
       "    .dataframe thead th {\n",
       "        text-align: right;\n",
       "    }\n",
       "</style>\n",
       "<table border=\"1\" class=\"dataframe\">\n",
       "  <thead>\n",
       "    <tr style=\"text-align: right;\">\n",
       "      <th></th>\n",
       "      <th>Random</th>\n",
       "      <th>LR</th>\n",
       "      <th>SVC</th>\n",
       "      <th>DT</th>\n",
       "      <th>RF</th>\n",
       "      <th>XGB</th>\n",
       "    </tr>\n",
       "  </thead>\n",
       "  <tbody>\n",
       "    <tr>\n",
       "      <th>accuracy_score</th>\n",
       "      <td>0.496333</td>\n",
       "      <td>0.749667</td>\n",
       "      <td>0.756333</td>\n",
       "      <td>0.783333</td>\n",
       "      <td>0.791667</td>\n",
       "      <td>0.0</td>\n",
       "    </tr>\n",
       "    <tr>\n",
       "      <th>f1_score</th>\n",
       "      <td>0.430026</td>\n",
       "      <td>0.584394</td>\n",
       "      <td>0.617878</td>\n",
       "      <td>0.654989</td>\n",
       "      <td>0.715521</td>\n",
       "      <td>0.0</td>\n",
       "    </tr>\n",
       "    <tr>\n",
       "      <th>roc_auc_score</th>\n",
       "      <td>0.514003</td>\n",
       "      <td>0.833234</td>\n",
       "      <td>0.832338</td>\n",
       "      <td>0.873440</td>\n",
       "      <td>0.887183</td>\n",
       "      <td>0.0</td>\n",
       "    </tr>\n",
       "    <tr>\n",
       "      <th>log_loss</th>\n",
       "      <td>0.868735</td>\n",
       "      <td>0.483827</td>\n",
       "      <td>0.473798</td>\n",
       "      <td>0.466889</td>\n",
       "      <td>0.403714</td>\n",
       "      <td>0.0</td>\n",
       "    </tr>\n",
       "  </tbody>\n",
       "</table>\n",
       "</div>"
      ],
      "text/plain": [
       "                  Random        LR       SVC        DT        RF  XGB\n",
       "accuracy_score  0.496333  0.749667  0.756333  0.783333  0.791667  0.0\n",
       "f1_score        0.430026  0.584394  0.617878  0.654989  0.715521  0.0\n",
       "roc_auc_score   0.514003  0.833234  0.832338  0.873440  0.887183  0.0\n",
       "log_loss        0.868735  0.483827  0.473798  0.466889  0.403714  0.0"
      ]
     },
     "execution_count": 45,
     "metadata": {},
     "output_type": "execute_result"
    },
    {
     "name": "stdout",
     "output_type": "stream",
     "text": [
      "[CV] END base_estimator__criterion=entropy, base_estimator__max_depth=None, base_estimator__n_estimators=100, method=isotonic; total time=  37.9s\n",
      "[CV] END base_estimator__criterion=entropy, base_estimator__max_depth=None, base_estimator__n_estimators=100, method=isotonic; total time=  39.3s\n"
     ]
    }
   ],
   "source": [
    "rf_clf = rf_clf.best_estimator_\n",
    "rf_clf.fit(X_train,y_train)\n",
    "metrics(rf_clf,X_test,y_test,name='RF')\n",
    "print('********* dataset *********')\n",
    "result_dataset"
   ]
  },
  {
   "cell_type": "markdown",
   "metadata": {},
   "source": [
    "## LightGBM"
   ]
  },
  {
   "cell_type": "code",
   "execution_count": 47,
   "metadata": {},
   "outputs": [
    {
     "name": "stdout",
     "output_type": "stream",
     "text": [
      "Fitting 2 folds for each of 2 candidates, totalling 4 fits\n"
     ]
    },
    {
     "data": {
      "text/plain": [
       "CalibratedClassifierCV(base_estimator=LGBMClassifier(learning_rate=1.0,\n",
       "                                                     max_depth=3,\n",
       "                                                     n_estimators=30,\n",
       "                                                     random_state=42),\n",
       "                       method='isotonic')"
      ]
     },
     "execution_count": 47,
     "metadata": {},
     "output_type": "execute_result"
    }
   ],
   "source": [
    "lgbm_clf = LGBMClassifier(random_state = 42)\n",
    "#param_grids = {'base_estimator__boosting_type':['gbdt','dart','goss','rf'],'base_estimator__max_depth' : [1,2,3,4],'base_estimator__learning_rate' : [0.1,1.0,0.01],'base_estimator__n_estimators':[36,34,35],'base_estimator__subsample': [0.8,0.6],'base_estimator__colsample_bytree': [0.3,0.4,0.5] ,'base_estimator__reg_alpha':[0.7,0.6],'base_estimator__reg_lambda':[0.1,0.0,0.2],'method' : ['sigmoid','isotonic']}\n",
    "param_grids = {'base_estimator__boosting_type':['gbdt'],'base_estimator__max_depth' : [3],'base_estimator__learning_rate' : [1.0],'base_estimator__n_estimators':[30],'method' : ['sigmoid','isotonic']}\n",
    "lgbm_clf = GridSearchCV(estimator = CalibratedClassifierCV(base_estimator = lgbm_clf),param_grid = param_grids,cv = 2, scoring = 'neg_log_loss', verbose = 2,n_jobs = -1)\n",
    "lgbm_clf.fit(X_train,y_train)\n",
    "lgbm_clf.best_estimator_"
   ]
  },
  {
   "cell_type": "code",
   "execution_count": 48,
   "metadata": {},
   "outputs": [
    {
     "name": "stdout",
     "output_type": "stream",
     "text": [
      "accuracy score : 0.804\n",
      "f1 score : 0.7197330791229741\n",
      "auc score : 0.8988801708002597\n",
      "log loss : 0.394532762758261\n",
      "classification report : \n",
      "               precision    recall  f1-score   support\n",
      "\n",
      "           0       0.82      0.88      0.85      1887\n",
      "           1       0.77      0.68      0.72      1113\n",
      "\n",
      "    accuracy                           0.80      3000\n",
      "   macro avg       0.79      0.78      0.78      3000\n",
      "weighted avg       0.80      0.80      0.80      3000\n",
      "\n",
      "*********** confusion matrx ***********\n"
     ]
    },
    {
     "data": {
      "image/png": "[encoded data removed]",
      "text/plain": [
       "<Figure size 1440x288 with 6 Axes>"
      ]
     },
     "metadata": {
      "needs_background": "light"
     },
     "output_type": "display_data"
    },
    {
     "name": "stdout",
     "output_type": "stream",
     "text": [
      "********* dataset *********\n"
     ]
    },
    {
     "data": {
      "text/html": [
       "<div>\n",
       "<style scoped>\n",
       "    .dataframe tbody tr th:only-of-type {\n",
       "        vertical-align: middle;\n",
       "    }\n",
       "\n",
       "    .dataframe tbody tr th {\n",
       "        vertical-align: top;\n",
       "    }\n",
       "\n",
       "    .dataframe thead th {\n",
       "        text-align: right;\n",
       "    }\n",
       "</style>\n",
       "<table border=\"1\" class=\"dataframe\">\n",
       "  <thead>\n",
       "    <tr style=\"text-align: right;\">\n",
       "      <th></th>\n",
       "      <th>Random</th>\n",
       "      <th>LR</th>\n",
       "      <th>SVC</th>\n",
       "      <th>DT</th>\n",
       "      <th>RF</th>\n",
       "      <th>XGB</th>\n",
       "    </tr>\n",
       "  </thead>\n",
       "  <tbody>\n",
       "    <tr>\n",
       "      <th>accuracy_score</th>\n",
       "      <td>0.496333</td>\n",
       "      <td>0.749667</td>\n",
       "      <td>0.756333</td>\n",
       "      <td>0.783333</td>\n",
       "      <td>0.791667</td>\n",
       "      <td>0.804000</td>\n",
       "    </tr>\n",
       "    <tr>\n",
       "      <th>f1_score</th>\n",
       "      <td>0.430026</td>\n",
       "      <td>0.584394</td>\n",
       "      <td>0.617878</td>\n",
       "      <td>0.654989</td>\n",
       "      <td>0.715521</td>\n",
       "      <td>0.719733</td>\n",
       "    </tr>\n",
       "    <tr>\n",
       "      <th>roc_auc_score</th>\n",
       "      <td>0.514003</td>\n",
       "      <td>0.833234</td>\n",
       "      <td>0.832338</td>\n",
       "      <td>0.873440</td>\n",
       "      <td>0.887183</td>\n",
       "      <td>0.898880</td>\n",
       "    </tr>\n",
       "    <tr>\n",
       "      <th>log_loss</th>\n",
       "      <td>0.868735</td>\n",
       "      <td>0.483827</td>\n",
       "      <td>0.473798</td>\n",
       "      <td>0.466889</td>\n",
       "      <td>0.403714</td>\n",
       "      <td>0.394533</td>\n",
       "    </tr>\n",
       "  </tbody>\n",
       "</table>\n",
       "</div>"
      ],
      "text/plain": [
       "                  Random        LR       SVC        DT        RF       XGB\n",
       "accuracy_score  0.496333  0.749667  0.756333  0.783333  0.791667  0.804000\n",
       "f1_score        0.430026  0.584394  0.617878  0.654989  0.715521  0.719733\n",
       "roc_auc_score   0.514003  0.833234  0.832338  0.873440  0.887183  0.898880\n",
       "log_loss        0.868735  0.483827  0.473798  0.466889  0.403714  0.394533"
      ]
     },
     "execution_count": 48,
     "metadata": {},
     "output_type": "execute_result"
    }
   ],
   "source": [
    "lgbm_clf = lgbm_clf.best_estimator_\n",
    "lgbm_clf.fit(X_train,y_train)\n",
    "metrics(lgbm_clf,X_test,y_test,name='XGB')\n",
    "print('********* dataset *********')\n",
    "result_dataset"
   ]
  },
  {
   "cell_type": "markdown",
   "metadata": {},
   "source": [
    "Note: we can make this model far better if we have the compute power \n",
    "* To do that just run with commented parameters."
   ]
  },
  {
   "cell_type": "code",
   "execution_count": null,
   "metadata": {},
   "outputs": [],
   "source": []
  }
 ],
 "metadata": {
  "colab": {
   "authorship_tag": "ABX9TyNIf17Vv2CGICKjWkCnIEkl",
   "collapsed_sections": [],
   "mount_file_id": "1Y35jM-3Kw2bWU7MQzDMwL4F7rux1b_Nf",
   "provenance": []
  },
  "kernelspec": {
   "display_name": "Python 3 (ipykernel)",
   "language": "python",
   "name": "python3"
  },
  "language_info": {
   "codemirror_mode": {
    "name": "ipython",
    "version": 3
   },
   "file_extension": ".py",
   "mimetype": "text/x-python",
   "name": "python",
   "nbconvert_exporter": "python",
   "pygments_lexer": "ipython3",
   "version": "3.9.12"
  }
 },
 "nbformat": 4,
 "nbformat_minor": 1
}
